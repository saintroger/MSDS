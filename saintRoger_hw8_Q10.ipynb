{
  "nbformat": 4,
  "nbformat_minor": 0,
  "metadata": {
    "colab": {
      "name": "saintRoger_hw8_Q10.ipynb",
      "provenance": [],
      "authorship_tag": "ABX9TyMBhw83RAUa02bPuuXCBmIX",
      "include_colab_link": true
    },
    "kernelspec": {
      "name": "python3",
      "display_name": "Python 3"
    },
    "language_info": {
      "name": "python"
    }
  },
  "cells": [
    {
      "cell_type": "markdown",
      "metadata": {
        "id": "view-in-github",
        "colab_type": "text"
      },
      "source": [
        "<a href=\"https://colab.research.google.com/github/saintroger/MSDS/blob/main/saintRoger_hw8_Q10.ipynb\" target=\"_parent\"><img src=\"https://colab.research.google.com/assets/colab-badge.svg\" alt=\"Open In Colab\"/></a>"
      ]
    },
    {
      "cell_type": "code",
      "metadata": {
        "colab": {
          "base_uri": "https://localhost:8080/"
        },
        "id": "sxM4UFYTXQ2f",
        "outputId": "5e159bf8-94e3-4efc-e75e-6d147b5fcc6d"
      },
      "source": [
        "print(\"Enter P_bar:\")\n",
        "p_bar = int(input())\n",
        "\n",
        "print(\"Enter beta the price sensitivity of demand :\")\n",
        "beta = int(input())#price sensitivity of demand \n",
        "\n",
        "print(\"Enter the number of firm in the market:\")\n",
        "N = int(input())#number of firm in the market\n",
        "\n",
        "print(\"Enter marginal cost of production per unit\")\n",
        "c = int(input())#marginal cost of production per unit\n",
        "\n",
        "#computes productivity \n",
        "\n",
        "\n",
        "#quantity per firm, \n",
        "x = (p_bar - c)/2*beta\n",
        "print(x)\n",
        "\n",
        "\n",
        "#total quantity,\n",
        "X = x*N\n",
        "print(\"total qty\",X)\n",
        "\n",
        "#the market price,\n",
        "market_price = p_bar-(beta*X)\n",
        "print('Market price',market_price)\n",
        "\n",
        " #profits per firm, \n",
        "pie = X*market_price - c*X\n",
        "print('Profit per firm ',pie)\n",
        "\n",
        "#total economic profit\n",
        "total_per = pie*N\n",
        "print('Total econ profit',total_per)\n",
        "\n",
        "#total consumer surplus in a symmetric Cournot equilibrium.\n",
        "cs = 1/2*(market_price)*X\n",
        "print('Consumer surplus ',cs)"
      ],
      "execution_count": null,
      "outputs": [
        {
          "output_type": "stream",
          "name": "stdout",
          "text": [
            "Enter P_bar:\n",
            "10\n",
            "Enter beta the price sensitivity of demand :\n",
            "1\n",
            "Enter the number of firm in the market:\n",
            "2\n",
            "Enter marginal cost of production per unit\n",
            "4\n",
            "3.0\n",
            "6.0\n",
            "4.0\n",
            "0.0\n",
            "0.0\n",
            "12.0\n"
          ]
        }
      ]
    },
    {
      "cell_type": "code",
      "metadata": {
        "id": "mm18BoUCoFp-"
      },
      "source": [
        ""
      ],
      "execution_count": null,
      "outputs": []
    }
  ]
}