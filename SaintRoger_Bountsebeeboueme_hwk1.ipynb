{
  "nbformat": 4,
  "nbformat_minor": 0,
  "metadata": {
    "colab": {
      "name": "SaintRoger_Bountsebeeboueme_hwk1.ipynb",
      "provenance": [],
      "collapsed_sections": [],
      "mount_file_id": "1L4hx7SVyI2PiBhZ0XdrfpVnJY5_4LCig",
      "authorship_tag": "ABX9TyO68UsxPT2cW/hi9gGMSc5d",
      "include_colab_link": true
    },
    "kernelspec": {
      "name": "python3",
      "display_name": "Python 3"
    },
    "language_info": {
      "name": "python"
    }
  },
  "cells": [
    {
      "cell_type": "markdown",
      "metadata": {
        "id": "view-in-github",
        "colab_type": "text"
      },
      "source": [
        "<a href=\"https://colab.research.google.com/github/saintroger/MSDS/blob/main/SaintRoger_Bountsebeeboueme_hwk1.ipynb\" target=\"_parent\"><img src=\"https://colab.research.google.com/assets/colab-badge.svg\" alt=\"Open In Colab\"/></a>"
      ]
    },
    {
      "cell_type": "code",
      "source": [
        "import pandas as pd\n",
        "import numpy as np\n",
        "import matplotlib.pyplot as plt\n",
        "import math\n",
        "import random\n",
        "import collections\n",
        "import scipy.stats\n",
        "import statsmodels.api as sm\n",
        "from statsmodels.formula.api import ols"
      ],
      "metadata": {
        "colab": {
          "base_uri": "https://localhost:8080/"
        },
        "id": "6i3OgKeW5kOE",
        "outputId": "4396c102-4fdc-45aa-c5da-f120c844aeba"
      },
      "execution_count": 1,
      "outputs": [
        {
          "output_type": "stream",
          "name": "stderr",
          "text": [
            "/usr/local/lib/python3.7/dist-packages/statsmodels/tools/_testing.py:19: FutureWarning: pandas.util.testing is deprecated. Use the functions in the public API at pandas.testing instead.\n",
            "  import pandas.util.testing as tm\n"
          ]
        }
      ]
    },
    {
      "cell_type": "markdown",
      "source": [
        "1. The sample space of this experiment 1 and 0"
      ],
      "metadata": {
        "id": "dAVA1lzDYiNj"
      }
    },
    {
      "cell_type": "code",
      "source": [
        "#b) Experiment \n",
        "values = []\n",
        "num_trials = 10000\n",
        "values_count = []\n",
        "\n",
        "def create_0_1(values):\n",
        "  i=0\n",
        "  count = 0\n",
        "  for x in values:\n",
        "    if x == values[i]:\n",
        "      count = count+1\n",
        "  i=i+1\n",
        "  if count>=2:\n",
        "     return 1\n",
        "  else:\n",
        "     return 0 \n",
        "\n",
        "\n",
        "for i in range(num_trials):\n",
        "  values = (np.random.randint(low=1, high=366, size=10))#randomly pick 10 people\n",
        "  values_count.append(create_0_1(values))\n",
        "\n",
        "plt.hist(values_count ,bins=2, density=True)\n",
        "plt.xticks([0, 1])\n",
        "plt.title('Probability distribution of X- with 10 people ')\n",
        "plt.show()\n"
      ],
      "metadata": {
        "colab": {
          "base_uri": "https://localhost:8080/",
          "height": 281
        },
        "id": "ehVa4jEs6BeY",
        "outputId": "846eff44-c9f4-4feb-d43e-ae15a0f540d3"
      },
      "execution_count": 7,
      "outputs": [
        {
          "output_type": "display_data",
          "data": {
            "image/png": "[encoded data removed]",
            "text/plain": [
              "<Figure size 432x288 with 1 Axes>"
            ]
          },
          "metadata": {
            "needs_background": "light"
          }
        }
      ]
    },
    {
      "cell_type": "code",
      "source": [
        "#c) Let'S try picking 30 people  and 60\n",
        "values_count1 = []\n",
        "values_count2 = []\n",
        "\n",
        "\n",
        "for i in range(num_trials):\n",
        "  values1 = (np.random.randint(low=1, high=366, size=30))#randomly pick 30 people\n",
        "  values_count1.append(create_0_1(values1))\n",
        "\n",
        "plt.hist(values_count1 ,bins=2, density=True)\n",
        "plt.xticks([0, 1])\n",
        "plt.title('Probability distribution of X- with 30 people ')\n",
        "\n",
        "plt.show()\n",
        "\n",
        "\n",
        "for i in range(num_trials):\n",
        "  values2 = (np.random.randint(low=1, high=366, size=60))#randomly pick 60 people\n",
        "  values_count2.append(create_0_1(values2))\n",
        "\n",
        "plt.hist(values_count2 ,bins=2, density=True)\n",
        "plt.xticks([0, 1])\n",
        "plt.title('Probability distribution of X- with 60 people ')\n",
        "\n",
        "plt.show()\n"
      ],
      "metadata": {
        "colab": {
          "base_uri": "https://localhost:8080/",
          "height": 545
        },
        "id": "KvYP6bqDtjo-",
        "outputId": "ea230b7b-deb5-495e-f681-4ffa3385d4cd"
      },
      "execution_count": 8,
      "outputs": [
        {
          "output_type": "display_data",
          "data": {
            "image/png": "[encoded data removed]",
            "text/plain": [
              "<Figure size 432x288 with 1 Axes>"
            ]
          },
          "metadata": {
            "needs_background": "light"
          }
        },
        {
          "output_type": "display_data",
          "data": {
            "image/png": "[encoded data removed]",
            "text/plain": [
              "<Figure size 432x288 with 1 Axes>"
            ]
          },
          "metadata": {
            "needs_background": "light"
          }
        }
      ]
    },
    {
      "cell_type": "markdown",
      "source": [
        "When you pick more people the number probability 2 people or more born the same day increase."
      ],
      "metadata": {
        "id": "r1kC_q4Pd2eu"
      }
    },
    {
      "cell_type": "markdown",
      "source": [
        "\n",
        "\n",
        "2.   Setting up hypothesis test\n",
        "\n",
        "> H0: Mean weight different from population mean\n",
        "\n",
        "\n",
        "> H1: Mean weight equal population mean\n",
        "\n",
        "\n",
        "\n"
      ],
      "metadata": {
        "id": "nsOZDDvpe0qa"
      }
    },
    {
      "cell_type": "code",
      "source": [
        "#Question 2b\n",
        "df = pd.read_csv('/content/drive/MyDrive/data/athlete_events.csv')\n",
        "country_of_choice = 'China'\n",
        "alpha=0.01\n",
        "\n",
        "#to compute the p value \n",
        "\n",
        "#Step1: determine sample mean \n",
        "df_sample = df[df['Team'] == country_of_choice].sample(n=100)\n",
        "sample_mean = df_sample['Weight'].mean()\n",
        "print('Sample mean',sample_mean)\n",
        "\n",
        "#step2: Estimate standard deviation\n",
        "std_error = scipy.stats.sem(df_sample['Weight'], nan_policy='omit')\n",
        "print('Standard deviation',std_error)\n",
        "\n",
        "#step3: Computing population mean \n",
        "pop_mean = df['Weight'].mean()\n",
        "print('Population mean', pop_mean)\n",
        "\n",
        "#Step4: Compute z_value\n",
        "z = (sample_mean - pop_mean) / (std_error)\n",
        "print('z_value', z)\n",
        "\n",
        "#Stpe5: compute p_value\n",
        "def p_of_z(z):\n",
        "    return scipy.stats.norm(0, 1).cdf(z)\n",
        "p = 2*p_of_z(-z)\n",
        "print('p_value:',p)\n",
        "\n",
        "#step5: conclude\n",
        "if p>alpha:\n",
        "  print('Since p > alpha we fail to reject the null hypothesis')\n",
        "else:\n",
        "  print('we reject the null hypothesis')\n"
      ],
      "metadata": {
        "colab": {
          "base_uri": "https://localhost:8080/"
        },
        "id": "qziQZ-pbggYX",
        "outputId": "0a6e1937-f3eb-47eb-b357-ab4e2a575a45"
      },
      "execution_count": 9,
      "outputs": [
        {
          "output_type": "stream",
          "name": "stdout",
          "text": [
            "Sample mean 65.28421052631579\n",
            "Standard deviation 1.3365951928294904\n",
            "Population mean 70.70239290053351\n",
            "z_value -4.053719782388084\n",
            "p_value: 1.9999495904049605\n",
            "Since p > alpha we fail to reject the null hypothesis\n"
          ]
        }
      ]
    },
    {
      "cell_type": "code",
      "source": [
        ""
      ],
      "metadata": {
        "id": "ohmjloCBxGS9"
      },
      "execution_count": null,
      "outputs": []
    },
    {
      "cell_type": "markdown",
      "source": [
        "3. TV and sales look linearly correlated"
      ],
      "metadata": {
        "id": "stOYBLlJ7Cgg"
      }
    },
    {
      "cell_type": "code",
      "source": [
        "#3) We have a pair that look correlated \n",
        "df = pd.read_csv('/content/drive/MyDrive/data/Advertising.csv')\n",
        "model = ols(formula = 'TV ~ sales', data=df)\n",
        "res = model.fit()\n",
        "print('R_squared', res.rsquared)\n",
        "res.summary()\n"
      ],
      "metadata": {
        "colab": {
          "base_uri": "https://localhost:8080/",
          "height": 455
        },
        "id": "khL2FnbVrRbe",
        "outputId": "dfa883b0-1a18-45c8-9196-261bc419f742"
      },
      "execution_count": 10,
      "outputs": [
        {
          "output_type": "stream",
          "name": "stdout",
          "text": [
            "R_squared 0.6118750508500711\n"
          ]
        },
        {
          "output_type": "execute_result",
          "data": {
            "text/html": [
              "<table class=\"simpletable\">\n",
              "<caption>OLS Regression Results</caption>\n",
              "<tr>\n",
              "  <th>Dep. Variable:</th>           <td>TV</td>        <th>  R-squared:         </th> <td>   0.612</td>\n",
              "</tr>\n",
              "<tr>\n",
              "  <th>Model:</th>                   <td>OLS</td>       <th>  Adj. R-squared:    </th> <td>   0.610</td>\n",
              "</tr>\n",
              "<tr>\n",
              "  <th>Method:</th>             <td>Least Squares</td>  <th>  F-statistic:       </th> <td>   312.1</td>\n",
              "</tr>\n",
              "<tr>\n",
              "  <th>Date:</th>             <td>Sun, 06 Feb 2022</td> <th>  Prob (F-statistic):</th> <td>1.47e-42</td>\n",
              "</tr>\n",
              "<tr>\n",
              "  <th>Time:</th>                 <td>23:30:09</td>     <th>  Log-Likelihood:    </th> <td> -1079.2</td>\n",
              "</tr>\n",
              "<tr>\n",
              "  <th>No. Observations:</th>      <td>   200</td>      <th>  AIC:               </th> <td>   2162.</td>\n",
              "</tr>\n",
              "<tr>\n",
              "  <th>Df Residuals:</th>          <td>   198</td>      <th>  BIC:               </th> <td>   2169.</td>\n",
              "</tr>\n",
              "<tr>\n",
              "  <th>Df Model:</th>              <td>     1</td>      <th>                     </th>     <td> </td>   \n",
              "</tr>\n",
              "<tr>\n",
              "  <th>Covariance Type:</th>      <td>nonrobust</td>    <th>                     </th>     <td> </td>   \n",
              "</tr>\n",
              "</table>\n",
              "<table class=\"simpletable\">\n",
              "<tr>\n",
              "      <td></td>         <th>coef</th>     <th>std err</th>      <th>t</th>      <th>P>|t|</th>  <th>[0.025</th>    <th>0.975]</th>  \n",
              "</tr>\n",
              "<tr>\n",
              "  <th>Intercept</th> <td>  -33.4502</td> <td>   10.897</td> <td>   -3.070</td> <td> 0.002</td> <td>  -54.939</td> <td>  -11.961</td>\n",
              "</tr>\n",
              "<tr>\n",
              "  <th>sales</th>     <td>   12.8717</td> <td>    0.729</td> <td>   17.668</td> <td> 0.000</td> <td>   11.435</td> <td>   14.308</td>\n",
              "</tr>\n",
              "</table>\n",
              "<table class=\"simpletable\">\n",
              "<tr>\n",
              "  <th>Omnibus:</th>       <td>21.952</td> <th>  Durbin-Watson:     </th> <td>   1.973</td>\n",
              "</tr>\n",
              "<tr>\n",
              "  <th>Prob(Omnibus):</th> <td> 0.000</td> <th>  Jarque-Bera (JB):  </th> <td>  26.224</td>\n",
              "</tr>\n",
              "<tr>\n",
              "  <th>Skew:</th>          <td> 0.882</td> <th>  Prob(JB):          </th> <td>2.02e-06</td>\n",
              "</tr>\n",
              "<tr>\n",
              "  <th>Kurtosis:</th>      <td> 3.193</td> <th>  Cond. No.          </th> <td>    43.2</td>\n",
              "</tr>\n",
              "</table><br/><br/>Warnings:<br/>[1] Standard Errors assume that the covariance matrix of the errors is correctly specified."
            ],
            "text/plain": [
              "<class 'statsmodels.iolib.summary.Summary'>\n",
              "\"\"\"\n",
              "                            OLS Regression Results                            \n",
              "==============================================================================\n",
              "Dep. Variable:                     TV   R-squared:                       0.612\n",
              "Model:                            OLS   Adj. R-squared:                  0.610\n",
              "Method:                 Least Squares   F-statistic:                     312.1\n",
              "Date:                Sun, 06 Feb 2022   Prob (F-statistic):           1.47e-42\n",
              "Time:                        23:30:09   Log-Likelihood:                -1079.2\n",
              "No. Observations:                 200   AIC:                             2162.\n",
              "Df Residuals:                     198   BIC:                             2169.\n",
              "Df Model:                           1                                         \n",
              "Covariance Type:            nonrobust                                         \n",
              "==============================================================================\n",
              "                 coef    std err          t      P>|t|      [0.025      0.975]\n",
              "------------------------------------------------------------------------------\n",
              "Intercept    -33.4502     10.897     -3.070      0.002     -54.939     -11.961\n",
              "sales         12.8717      0.729     17.668      0.000      11.435      14.308\n",
              "==============================================================================\n",
              "Omnibus:                       21.952   Durbin-Watson:                   1.973\n",
              "Prob(Omnibus):                  0.000   Jarque-Bera (JB):               26.224\n",
              "Skew:                           0.882   Prob(JB):                     2.02e-06\n",
              "Kurtosis:                       3.193   Cond. No.                         43.2\n",
              "==============================================================================\n",
              "\n",
              "Warnings:\n",
              "[1] Standard Errors assume that the covariance matrix of the errors is correctly specified.\n",
              "\"\"\""
            ]
          },
          "metadata": {},
          "execution_count": 10
        }
      ]
    },
    {
      "cell_type": "code",
      "source": [
        "#The shaded region is the 95% \n",
        "import seaborn as sns\n",
        "sns.lmplot(x='TV',y='sales',data=df)"
      ],
      "metadata": {
        "colab": {
          "base_uri": "https://localhost:8080/",
          "height": 386
        },
        "id": "b0sVtGCv9M-b",
        "outputId": "f2bc6823-45cb-41ab-8ab7-f1cadb867f70"
      },
      "execution_count": 27,
      "outputs": [
        {
          "output_type": "execute_result",
          "data": {
            "text/plain": [
              "<seaborn.axisgrid.FacetGrid at 0x7f4c752d9d50>"
            ]
          },
          "metadata": {},
          "execution_count": 27
        },
        {
          "output_type": "display_data",
          "data": {
            "image/png": "[encoded data removed]",
            "text/plain": [
              "<Figure size 360x360 with 1 Axes>"
            ]
          },
          "metadata": {
            "needs_background": "light"
          }
        }
      ]
    },
    {
      "cell_type": "markdown",
      "source": [
        "3. As the TV investment increased, sales increase as well. [link text](https://)"
      ],
      "metadata": {
        "id": "uJ6G0k1T-rwN"
      }
    },
    {
      "cell_type": "markdown",
      "source": [
        "4. a) They are linearly correlated "
      ],
      "metadata": {
        "id": "9oFUhDQDEwpo"
      }
    },
    {
      "cell_type": "code",
      "source": [
        "# Question 5\n",
        "df = sns.load_dataset('penguins')\n",
        "\n",
        "model = ols(formula = 'bill_length_mm ~ body_mass_g', data=df)\n",
        "res = model.fit()\n",
        "print('R_squared with body mass as the exogenous variable', res.rsquared)\n",
        "\n",
        "\n",
        "model = ols(formula = 'bill_length_mm ~ flipper_length_mm', data=df)\n",
        "res = model.fit()\n",
        "print('R_squared with flipper length as the exogenous variable', res.rsquared)\n",
        "\n",
        "#best fit line \n",
        "#sns.lmplot(x='TV',y='sales',data=df)"
      ],
      "metadata": {
        "colab": {
          "base_uri": "https://localhost:8080/"
        },
        "id": "GG5QJ6GdErs_",
        "outputId": "d8fda585-6787-478a-f975-a03987fe5b89"
      },
      "execution_count": 39,
      "outputs": [
        {
          "output_type": "stream",
          "name": "stdout",
          "text": [
            "R_squared with body mass as the exogenous variable 0.3541557031421869\n",
            "R_squared with flipper length as the exogenous variable 0.43057395194378\n"
          ]
        }
      ]
    },
    {
      "cell_type": "markdown",
      "source": [
        "Flipper length seems to predict bill length better than the body mass does."
      ],
      "metadata": {
        "id": "6oJilfyGMvvw"
      }
    },
    {
      "cell_type": "code",
      "source": [
        "#let create a separate model for each species\n",
        "\n",
        "df.species.unique()\n",
        "#array(['Adelie', 'Chinstrap', 'Gentoo'], dtype=object)\n",
        "\n",
        "#Adelie\n",
        "df_adelie = df[df['species']=='Adelie']\n",
        "model = ols(formula = 'bill_length_mm ~ flipper_length_mm', data=df_adelie)\n",
        "res = model.fit()\n",
        "print('R_squared with flipper length as the exogenous variable', res.rsquared)"
      ],
      "metadata": {
        "colab": {
          "base_uri": "https://localhost:8080/"
        },
        "id": "JN4PugQNOTgj",
        "outputId": "78a8f920-4812-4f2a-88cf-a5746a4806c4"
      },
      "execution_count": 44,
      "outputs": [
        {
          "output_type": "stream",
          "name": "stdout",
          "text": [
            "R_squared with flipper length as the exogenous variable 0.10613568063524415\n"
          ]
        }
      ]
    },
    {
      "cell_type": "code",
      "source": [
        "#Adelie\n",
        "df_Chinstrap = df[df['species']=='Chinstrap']\n",
        "model = ols(formula = 'bill_length_mm ~ flipper_length_mm', data=df_Chinstrap)\n",
        "res = model.fit()\n",
        "print('R_squared with flipper length as the exogenous variable', res.rsquared)"
      ],
      "metadata": {
        "colab": {
          "base_uri": "https://localhost:8080/"
        },
        "id": "d3bUDPEGQUKC",
        "outputId": "67a9d86b-5cb6-4649-8876-9a40f1a6785b"
      },
      "execution_count": 45,
      "outputs": [
        {
          "output_type": "stream",
          "name": "stdout",
          "text": [
            "R_squared with flipper length as the exogenous variable 0.2224134255850081\n"
          ]
        }
      ]
    },
    {
      "cell_type": "code",
      "source": [
        "df_Gentoo = df[df['species']=='Gentoo']\n",
        "model = ols(formula = 'bill_length_mm ~ flipper_length_mm', data=df_Gentoo)\n",
        "res = model.fit()\n",
        "print('R_squared with flipper length as the exogenous variable', res.rsquared)"
      ],
      "metadata": {
        "colab": {
          "base_uri": "https://localhost:8080/"
        },
        "id": "xJs7A8_TQh66",
        "outputId": "e4e2e542-17e2-4409-f6aa-74aae301d252"
      },
      "execution_count": 46,
      "outputs": [
        {
          "output_type": "stream",
          "name": "stdout",
          "text": [
            "R_squared with flipper length as the exogenous variable 0.4371353522056489\n"
          ]
        }
      ]
    },
    {
      "cell_type": "markdown",
      "source": [
        "The overall precision of our model does not necesseraly increased if we create a separated model for each species. However the model for Gentoo species seems to be slight more accurate with rSquared of 0.437 compared to the overall prediction with rsquared of 0.43"
      ],
      "metadata": {
        "id": "1uiGB-MBQqFs"
      }
    },
    {
      "cell_type": "markdown",
      "source": [
        "Why might models get better if we create a separate linear model for each category?\n",
        "Can a model get “worse” if we do this? "
      ],
      "metadata": {
        "id": "JwFNN6j-S66N"
      }
    }
  ]
}